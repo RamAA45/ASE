{
 "cells": [
  {
   "cell_type": "code",
   "execution_count": 22,
   "id": "d35cb797-4894-42c6-a28e-65f75fe3afb3",
   "metadata": {},
   "outputs": [
    {
     "data": {
      "text/plain": [
       "array([[0. , 0. , 0. ],\n",
       "       [0. , 0. , 1.1]])"
      ]
     },
     "execution_count": 22,
     "metadata": {},
     "output_type": "execute_result"
    }
   ],
   "source": [
    "#We can create simple molecules by manually typing the chemical symbols and a guess for the atomic positions in Ångström. For example N2:\n",
    "from ase import Atoms\n",
    "atoms = Atoms('N2', positions=[[0, 0, 0], [0, 0, 1.1]],cell=[10, 10, 10])\n",
    "atoms.positions"
   ]
  },
  {
   "cell_type": "code",
   "execution_count": 18,
   "id": "a838cac5-6b76-40c4-87bd-5623a059a759",
   "metadata": {},
   "outputs": [
    {
     "data": {
      "text/plain": [
       "<Popen: returncode: None args: ['/usr/bin/python3', '-m', 'ase', 'gui', '-']>"
      ]
     },
     "execution_count": 18,
     "metadata": {},
     "output_type": "execute_result"
    }
   ],
   "source": [
    "from ase.visualize import view\n",
    "view(atoms)"
   ]
  },
  {
   "cell_type": "code",
   "execution_count": 3,
   "id": "4ddac107-5dff-46a7-8c42-783786882bfc",
   "metadata": {},
   "outputs": [
    {
     "data": {
      "text/plain": [
       "array([[0. , 0. , 0. ],\n",
       "       [0. , 0. , 1.1]])"
      ]
     },
     "execution_count": 3,
     "metadata": {},
     "output_type": "execute_result"
    }
   ],
   "source": [
    "#Equivalently we can save the atoms in some format, often ASE’s own trajectory format:\n",
    "from ase.io import write\n",
    "write('myatoms.traj', atoms)\n",
    "atoms.positions"
   ]
  },
  {
   "cell_type": "markdown",
   "id": "3d9559b7-f7be-40d7-b769-3f804b1e5dd0",
   "metadata": {},
   "source": [
    "ASE uses calculators to perform calculations. Calculators are abstract interfaces to different backends which do the actual computation. Normally, calculators work by calling an external electronic structure code or force field code. To run a calculation, we must first create a calculator and then attach it to the Atoms object. Here we use GPAW and set a few calculation parameters as well:"
   ]
  },
  {
   "cell_type": "code",
   "execution_count": 4,
   "id": "5ed7c619-fa7d-42c7-8d41-bd84608c6542",
   "metadata": {},
   "outputs": [
    {
     "name": "stdout",
     "output_type": "stream",
     "text": [
      "Atoms(symbols='N2', pbc=False, cell=[6.0, 6.0, 7.1])\n"
     ]
    },
    {
     "data": {
      "text/plain": [
       "array([[3. , 3. , 3. ],\n",
       "       [3. , 3. , 4.1]])"
      ]
     },
     "execution_count": 4,
     "metadata": {},
     "output_type": "execute_result"
    }
   ],
   "source": [
    "atoms.center(vacuum=3.0)\n",
    "print(atoms)\n",
    "atoms.positions"
   ]
  },
  {
   "cell_type": "code",
   "execution_count": 5,
   "id": "873929ec-88d3-4fdc-9f23-16e507bec2f7",
   "metadata": {},
   "outputs": [],
   "source": [
    "from gpaw import GPAW\n",
    "\n",
    "calc = GPAW(mode='lcao', basis='dzp', txt='gpaw.txt', xc='LDA')\n",
    "atoms.calc = calc"
   ]
  },
  {
   "cell_type": "markdown",
   "id": "904aac4e-eddc-4606-b663-24505b90a7b2",
   "metadata": {},
   "source": [
    "Different electronic structure codes have different input parameters. GPAW can use real-space grids (mode='fd'), planewaves (mode='pw'), or localized atomic orbitals (mode='lcao') to represent the wavefunctions. Here we have asked for the faster but less accurate LCAO mode, together with the standard double-zeta polarized basis set ('dzp'). GPAW and many other codes require a unit cell (or simulation box) as well. Hence we center the atoms within a box, leaving 3 Å of empty space around each atom:"
   ]
  },
  {
   "cell_type": "code",
   "execution_count": 6,
   "id": "975b17f2-bcc9-4d79-81de-01bf4b7334cc",
   "metadata": {},
   "outputs": [
    {
     "data": {
      "text/plain": [
       "<Popen: returncode: None args: ['/usr/bin/python3', '-m', 'ase', 'gui', '-']>"
      ]
     },
     "execution_count": 6,
     "metadata": {},
     "output_type": "execute_result"
    }
   ],
   "source": [
    "view(atoms)"
   ]
  },
  {
   "cell_type": "code",
   "execution_count": 7,
   "id": "c880a698-58ad-476b-b894-3159c0e6c52d",
   "metadata": {},
   "outputs": [
    {
     "name": "stdout",
     "output_type": "stream",
     "text": [
      "Energy -15.753172434947512\n",
      "Forces\n",
      "[[ 1.52118219e-29 -5.07060730e-30 -3.08959522e+00]\n",
      " [-2.02824292e-29  0.00000000e+00  3.08959522e+00]]\n"
     ]
    }
   ],
   "source": [
    "#Once the Atoms have a calculator with appropriate parameters, we can do things like calculating energies and forces:\n",
    "e = atoms.get_potential_energy()\n",
    "print('Energy', e)\n",
    "f = atoms.get_forces()\n",
    "print('Forces')\n",
    "print(f)\n",
    "#This will give us the energy in eV and the forces in eV/Å. "
   ]
  },
  {
   "cell_type": "code",
   "execution_count": 8,
   "id": "1741cc8e-4826-4380-8cae-7c2eaa24b642",
   "metadata": {},
   "outputs": [
    {
     "name": "stdout",
     "output_type": "stream",
     "text": [
      "[[3.  3.  3. ]\n",
      " [3.  3.  4.1]]\n"
     ]
    }
   ],
   "source": [
    "print(atoms.positions)"
   ]
  },
  {
   "cell_type": "code",
   "execution_count": 9,
   "id": "0a5b0902-8ddb-47d8-9e1f-c245dafe30a1",
   "metadata": {},
   "outputs": [
    {
     "name": "stdout",
     "output_type": "stream",
     "text": [
      "Energy -15.753172434947512\n"
     ]
    }
   ],
   "source": [
    "#atoms.positions = [[2, 2, 2],[2, 2, 2.74]]\n",
    "e = atoms.get_potential_energy()\n",
    "print('Energy', e)"
   ]
  },
  {
   "cell_type": "code",
   "execution_count": 11,
   "id": "c40c035c-a67c-435f-ade7-9ae47d34f24d",
   "metadata": {},
   "outputs": [
    {
     "name": "stdout",
     "output_type": "stream",
     "text": [
      "\n",
      "  ___ ___ ___ _ _ _  \n",
      " |   |   |_  | | | | \n",
      " | | | | | . | | | | \n",
      " |__ |  _|___|_____|  24.6.0\n",
      " |___|_|             \n",
      "\n",
      "User:   ram@dasari-ram\n",
      "Date:   Wed Jul  3 08:17:07 2024\n",
      "Arch:   x86_64\n",
      "Pid:    2456\n",
      "CWD:    /home/ram/Desktop/ASE\n",
      "Python: 3.10.12\n",
      "gpaw:   /home/ram/.local/lib/python3.10/site-packages/gpaw\n",
      "_gpaw:  /home/ram/.local/lib/python3.10/site-packages/\n",
      "        _gpaw.cpython-310-x86_64-linux-gnu.so\n",
      "ase:    /home/ram/.local/lib/python3.10/site-packages/ase (version 3.23.0)\n",
      "numpy:  /home/ram/.local/lib/python3.10/site-packages/numpy (version 1.26.3)\n",
      "scipy:  /home/ram/.local/lib/python3.10/site-packages/scipy (version 1.12.0)\n",
      "libxc:  5.1.7\n",
      "units:  Angstrom and eV\n",
      "cores: 1\n",
      "OpenMP: False\n",
      "OMP_NUM_THREADS: 1\n",
      "\n",
      "Input parameters:\n",
      "  basis: dzp\n",
      "  mode: lcao\n",
      "\n",
      "System changes: positions, numbers, cell, pbc, initial_charges, initial_magmoms \n",
      "\n",
      "Initialize ...\n",
      "\n",
      "species:\n",
      "  H:\n",
      "    name: Hydrogen\n",
      "    id: 4766778ce56282eaa64abeb28b7c1de3\n",
      "    Z: 1.0\n",
      "    valence: 1\n",
      "    core: 0\n",
      "    charge: 0.0\n",
      "    file: /home/ram/Desktop/ASE/gpaw-setups-24.1.0/H.LDA.gz\n",
      "    compensation charges: {type: gauss,\n",
      "                           rc: 0.15,\n",
      "                           lmax: 2}\n",
      "    cutoffs: {filter: 0.85,\n",
      "              core: 0.53}\n",
      "    projectors:\n",
      "      #              energy  rcut\n",
      "      - 1s(1.00)    -6.353   0.476\n",
      "      -  s          20.858   0.476\n",
      "      -  p           0.000   0.476\n",
      "  \n",
      "    # LCAO basis set for H:\n",
      "    #   Name: dzp\n",
      "    #   File: /home/ram/Desktop/ASE/gpaw-setups-24.1.0/H.dzp.basis.gz\n",
      "    #   Number of radial functions: 3\n",
      "    #   Number of spherical harmonics: 5\n",
      "    #     l=0, rc=6.4219 Bohr: 1s-sz confined orbital\n",
      "    #     l=0, rc=3.6094 Bohr: 1s-dz split-valence wave\n",
      "    #     l=1, rc=6.4219 Bohr: p-type Gaussian polarization\n",
      "    #   Number of RI-basis functions 0\n",
      "\n",
      "Reference energy: -24.257917  # eV\n",
      "\n",
      "Spin-paired calculation\n",
      "\n",
      "Convergence criteria:\n",
      " Maximum [total energy] change in last 3 cyles: 0.0005 eV / valence electron\n",
      " Maximum integral of absolute [dens]ity change: 0.0001 electrons / valence electron\n",
      " Maximum integral of absolute [eigenst]ate change: 4e-08 eV^2 / valence electron\n",
      " Maximum number of scf [iter]ations: 333\n",
      " (Square brackets indicate name in SCF output, whereas a 'c' in\n",
      " the SCF output indicates the quantity has converged.)\n",
      "\n",
      "Symmetries present (total): 8\n",
      "\n",
      "  ( 1  0  0)  ( 1  0  0)  ( 0  1  0)  ( 0  1  0)  ( 0 -1  0)  ( 0 -1  0)\n",
      "  ( 0  1  0)  ( 0 -1  0)  ( 1  0  0)  (-1  0  0)  ( 1  0  0)  (-1  0  0)\n",
      "  ( 0  0  1)  ( 0  0  1)  ( 0  0  1)  ( 0  0  1)  ( 0  0  1)  ( 0  0  1)\n",
      "\n",
      "  (-1  0  0)  (-1  0  0)\n",
      "  ( 0  1  0)  ( 0 -1  0)\n",
      "  ( 0  0  1)  ( 0  0  1)\n",
      "\n",
      "1 k-point (Gamma)\n",
      "1 k-point in the irreducible part of the Brillouin zone\n",
      "       k-points in crystal coordinates                weights\n",
      "   0:     0.00000000    0.00000000    0.00000000          1/1\n",
      "\n",
      "Wave functions: LCAO\n",
      "  Diagonalizer: Serial LAPACK\n",
      "  Atomic Correction: dense with blas\n",
      "  Data-type: float\n",
      " \n",
      "\n",
      "Occupation numbers: Fermi-Dirac:\n",
      "  width: 0.1000  # eV\n",
      " \n",
      "\n",
      "Eigensolver\n",
      "   LCAO using direct dense diagonalizer \n",
      "\n",
      "Densities:\n",
      "  Coarse grid: 48*48*48 grid\n",
      "  Fine grid: 96*96*96 grid\n",
      "  Total Charge: 0.000000 \n",
      "\n",
      "Density mixing:\n",
      "  Method: separate\n",
      "  Backend: pulay\n",
      "  Linear mixing parameter: 0.05\n",
      "  old densities: 5\n",
      "  Damping of long wavelength oscillations: 50 \n",
      "\n",
      "Hamiltonian:\n",
      "  XC and Coulomb potentials evaluated on a 96*96*96 grid\n",
      "  Using the LDA Exchange-Correlation functional\n",
      "  Interpolation: tri-quintic (5. degree polynomial)\n",
      "  Poisson solver: FastPoissonSolver using\n",
      "    Stencil: 6*3+1=19 point O(h^6) finite-difference Laplacian\n",
      "    FFT axes: [0, 1, 2]\n",
      "    FST axes: []\n",
      " \n",
      "\n",
      "Memory estimate:\n",
      "  Process memory now: 306.41 MiB\n",
      "  Calculator: 46.35 MiB\n",
      "    Density: 30.82 MiB\n",
      "      Arrays: 21.94 MiB\n",
      "      Localized functions: 0.44 MiB\n",
      "      Mixer: 8.44 MiB\n",
      "    Hamiltonian: 14.38 MiB\n",
      "      Arrays: 14.34 MiB\n",
      "      XC: 0.00 MiB\n",
      "      Poisson: 0.00 MiB\n",
      "      vbar: 0.03 MiB\n",
      "    Wavefunctions: 1.16 MiB\n",
      "      C [qnM]: 0.00 MiB\n",
      "      S, T [2 x qmm]: 0.00 MiB\n",
      "      P [aqMi]: 0.00 MiB\n",
      "      BasisFunctions: 1.16 MiB\n",
      "      Eigensolver: 0.00 MiB\n",
      "\n",
      "Total number of cores used: 1\n",
      "\n",
      "Number of atoms: 2\n",
      "Number of atomic orbitals: 10\n",
      "Number of bands in calculation: 2\n",
      "Number of valence electrons: 2\n",
      "Bands to converge: occupied\n",
      "\n",
      "... initialized\n",
      "\n",
      "Initializing position-dependent things.\n",
      "\n",
      "Density initialized from atomic densities\n",
      "       .------------------------.  \n",
      "      /|                        |  \n",
      "     / |                        |  \n",
      "    /  |                        |  \n",
      "   /   |                        |  \n",
      "  /    |                        |  \n",
      " *     |                        |  \n",
      " |     |                        |  \n",
      " |     |                        |  \n",
      " |     |                        |  \n",
      " |     |                        |  \n",
      " |     |                        |  \n",
      " |     .------------------------.  \n",
      " |    /                        /   \n",
      " |   /                        /    \n",
      " |  /                        /     \n",
      " | /                        /      \n",
      " H/                        /       \n",
      " H------------------------*        \n",
      "\n",
      "Positions:\n",
      "   0 H      0.000000    0.000000    0.000000    ( 0.0000,  0.0000,  0.0000)\n",
      "   1 H      0.000000    0.000000    0.740000    ( 0.0000,  0.0000,  0.0000)\n",
      "\n",
      "Unit cell:\n",
      "           periodic     x           y           z      points  spacing\n",
      "  1. axis:    yes   10.000000    0.000000    0.000000    48     0.2083\n",
      "  2. axis:    yes    0.000000   10.000000    0.000000    48     0.2083\n",
      "  3. axis:    yes    0.000000    0.000000   10.000000    48     0.2083\n",
      "\n",
      "  Lengths:  10.000000  10.000000  10.000000\n",
      "  Angles:   90.000000  90.000000  90.000000\n",
      "\n",
      "Effective grid spacing dv^(1/3) = 0.2083\n",
      "\n",
      "     iter     time        total  log10-change:\n",
      "                         energy   eigst   dens\n",
      "iter:   1 08:17:08    -6.785613        c\n",
      "iter:   2 08:17:08    -6.741236        c -0.50\n",
      "iter:   3 08:17:09    -6.409776        c -0.52\n",
      "iter:   4 08:17:09    -6.410617        c -1.93\n",
      "iter:   5 08:17:09    -6.409860c       c -1.75\n",
      "iter:   6 08:17:09    -6.409890c       c -2.92\n",
      "iter:   7 08:17:10    -6.409855c       c -2.51\n",
      "iter:   8 08:17:10    -6.409855c       c -5.21c\n",
      "\n",
      "Converged after 8 iterations.\n",
      "\n",
      "Dipole moment: (-2.830526, -2.830526, -1.126023) |e|*Ang\n",
      "\n",
      "Energy contributions relative to reference atoms: (reference = -24.257917)\n",
      "\n",
      "Kinetic:         +5.699450\n",
      "Potential:       -7.061005\n",
      "External:        +0.000000\n",
      "XC:              -5.017233\n",
      "Entropy (-ST):   -0.000000\n",
      "Local:           -0.031066\n",
      "SIC:             +0.000000\n",
      "--------------------------\n",
      "Free energy:     -6.409855\n",
      "Extrapolated:    -6.409855\n",
      "\n",
      " Band  Eigenvalues  Occupancy\n",
      "    0    -10.16497    2.00000\n",
      "    1      2.35792    0.00000\n",
      "\n",
      "Fermi level: -5.74863\n",
      "\n",
      "Gap: 12.523 eV\n",
      "Transition (v -> c):\n",
      "  (s=0, k=0, n=0, [[0.00, 0.00, 0.00]]) -> (s=0, k=0, n=1, [[0.00, 0.00, 0.00]])\n",
      "No difference between direct/indirect transitions\n",
      "\n",
      "Forces in eV/Ang:\n",
      "  0 H     0.00000    0.00000   -1.81815\n",
      "  1 H     0.00000    0.00000    1.82426\n",
      "\n",
      "Initial positions:\n",
      "[[0.   0.   0.  ]\n",
      " [0.   0.   0.74]]\n",
      "Initial potential energy: -6.409854657361176\n",
      "Initial forces:\n",
      "[[ 0.          0.         -1.81815186]\n",
      " [ 0.          0.          1.8242582 ]]\n",
      "System changes: positions \n",
      "\n",
      "Initializing position-dependent things.\n",
      "\n",
      "Density initialized from wave functions\n",
      "       .------------------------.  \n",
      "      /|                        |  \n",
      "     / |                        |  \n",
      "    /  |                        |  \n",
      "   /   |                        |  \n",
      "  /    |                        |  \n",
      " *     |                        |  \n",
      " |     |                        |  \n",
      " |     |                        |  \n",
      " |     |                        |  \n",
      " |     |                        |  \n",
      " |     |                        |  \n",
      " |     .------------------------.  \n",
      " |    /                        /   \n",
      " |   /                        /    \n",
      " |  /                        /     \n",
      " | /                        /      \n",
      " H/                        /       \n",
      " H------------------------*        \n",
      "\n",
      "Positions:\n",
      "   0 H      0.000000    0.000000    0.000000    ( 0.0000,  0.0000,  0.0000)\n",
      "   1 H      0.000000    0.000000    1.000000    ( 0.0000,  0.0000,  0.0000)\n",
      "\n",
      "Unit cell:\n",
      "           periodic     x           y           z      points  spacing\n",
      "  1. axis:    yes   10.000000    0.000000    0.000000    48     0.2083\n",
      "  2. axis:    yes    0.000000   10.000000    0.000000    48     0.2083\n",
      "  3. axis:    yes    0.000000    0.000000   10.000000    48     0.2083\n",
      "\n",
      "  Lengths:  10.000000  10.000000  10.000000\n",
      "  Angles:   90.000000  90.000000  90.000000\n",
      "\n",
      "Effective grid spacing dv^(1/3) = 0.2083\n",
      "\n",
      "     iter     time        total  log10-change:\n",
      "                         energy   eigst   dens\n",
      "iter:   1 08:17:10    -5.997180        c\n",
      "iter:   2 08:17:10    -5.993578        c -1.01\n",
      "iter:   3 08:17:11    -5.967678        c -1.04\n",
      "iter:   4 08:17:11    -5.967745        c -2.76\n",
      "iter:   5 08:17:11    -5.967763c       c -2.81\n",
      "iter:   6 08:17:11    -5.967763c       c -4.63c\n",
      "\n",
      "Converged after 6 iterations.\n",
      "\n",
      "Dipole moment: (-2.892754, -2.892754, -0.842604) |e|*Ang\n",
      "\n",
      "Energy contributions relative to reference atoms: (reference = -24.257917)\n",
      "\n",
      "Kinetic:         +1.640215\n",
      "Potential:       -4.155137\n",
      "External:        +0.000000\n",
      "XC:              -3.428692\n",
      "Entropy (-ST):   -0.000000\n",
      "Local:           -0.024148\n",
      "SIC:             +0.000000\n",
      "--------------------------\n",
      "Free energy:     -5.967763\n",
      "Extrapolated:    -5.967763\n",
      "\n",
      " Band  Eigenvalues  Occupancy\n",
      "    0     -9.03736    2.00000\n",
      "    1      0.23576    0.00000\n",
      "\n",
      "Fermi level: -5.74863\n",
      "\n",
      "Gap: 9.273 eV\n",
      "Transition (v -> c):\n",
      "  (s=0, k=0, n=0, [[0.00, 0.00, 0.00]]) -> (s=0, k=0, n=1, [[0.00, 0.00, 0.00]])\n",
      "No difference between direct/indirect transitions\n",
      "\n",
      "Forces in eV/Ang:\n",
      "  0 H     0.00000    0.00000    3.73647\n",
      "  1 H     0.00000    0.00000   -3.74796\n",
      "\n",
      "\n",
      "New positions:\n",
      "[[0. 0. 0.]\n",
      " [0. 0. 1.]]\n",
      "New potential energy: -5.967762520257111\n",
      "New forces:\n",
      "[[ 0.          0.          3.73647393]\n",
      " [ 0.          0.         -3.74796385]]\n"
     ]
    }
   ],
   "source": [
    "from ase import Atoms\n",
    "from gpaw import GPAW\n",
    "\n",
    "# Create an H2 molecule in a cubic unit cell with a side length of 10 Å\n",
    "atoms1 = Atoms('H2', positions=[[0, 0, 0], [0, 0, 0.74]], cell=[10, 10, 10], pbc=True)\n",
    "\n",
    "# Set up the GPAW calculator\n",
    "calc = GPAW(mode='lcao', basis='dzp')\n",
    "atoms1.calc = calc\n",
    "\n",
    "# Perform the first calculation (initial positions)\n",
    "initial_energy = atoms1.get_potential_energy()\n",
    "initial_forces = atoms1.get_forces()\n",
    "\n",
    "print(\"Initial positions:\")\n",
    "print(atoms1.positions)\n",
    "print(\"Initial potential energy:\", initial_energy)\n",
    "print(\"Initial forces:\")\n",
    "print(initial_forces)\n",
    "\n",
    "# Move the second atom\n",
    "atoms1.positions[1] = [0, 0, 1.0]  # Change the position of the second atom\n",
    "\n",
    "# Perform the second calculation (after moving the atom)\n",
    "new_energy = atoms1.get_potential_energy()\n",
    "new_forces = atoms1.get_forces()\n",
    "\n",
    "print(\"\\nNew positions:\")\n",
    "print(atoms1.positions)\n",
    "print(\"New potential energy:\", new_energy)\n",
    "print(\"New forces:\")\n",
    "print(new_forces)\n"
   ]
  },
  {
   "cell_type": "code",
   "execution_count": 12,
   "id": "dafafcf5-6fe1-495b-a274-3cf0b6e62c8d",
   "metadata": {},
   "outputs": [],
   "source": [
    "from ase.io.trajectory import Trajectory\n",
    "traj = Trajectory('mytrajectory.traj', 'w')\n",
    "traj.write(atoms1)"
   ]
  },
  {
   "cell_type": "code",
   "execution_count": 23,
   "id": "c8583052-31a2-461d-a691-9b696876c6d8",
   "metadata": {},
   "outputs": [
    {
     "name": "stdout",
     "output_type": "stream",
     "text": [
      "Positions:\n",
      "[[0. 0. 0.]\n",
      " [0. 0. 1.]]\n"
     ]
    }
   ],
   "source": [
    "from ase.io import read\n",
    "\n",
    "# Read the trajectory file\n",
    "atoms2 = read('mytrajectory.traj')\n",
    "\n",
    "# Print the atomic positions\n",
    "print(\"Positions:\")\n",
    "print(atoms2.positions)"
   ]
  },
  {
   "cell_type": "code",
   "execution_count": 32,
   "id": "32daa2a3-527a-4138-8794-815e89b45d74",
   "metadata": {},
   "outputs": [
    {
     "name": "stdout",
     "output_type": "stream",
     "text": [
      "Atoms(symbols='H2', pbc=True, cell=[10.0, 10.0, 10.0], calculator=SinglePointCalculator(...))\n"
     ]
    }
   ],
   "source": [
    "from ase.io import iread\n",
    "for atoms in iread('mytrajectory.traj'):\n",
    "    print(atoms)"
   ]
  },
  {
   "cell_type": "markdown",
   "id": "9bd3f793-2ae4-4858-b999-710af9cd38fe",
   "metadata": {},
   "source": [
    "ase.io.read() reads and returns the last image, or possibly a list of images if the index keyword is also specified.\n",
    "\n",
    "ase.io.iread() reads multiple images, one at a time."
   ]
  },
  {
   "cell_type": "code",
   "execution_count": 30,
   "id": "cb84a9e2-d7aa-448d-b093-b8b5907c99e0",
   "metadata": {},
   "outputs": [
    {
     "name": "stdout",
     "output_type": "stream",
     "text": [
      "Distance: 0.60 A, Energy: 63.68000 eV\n",
      "Distance: 0.65 A, Energy: 38.43805 eV\n",
      "Distance: 0.71 A, Energy: 20.45960 eV\n",
      "Distance: 0.76 A, Energy: 7.84734 eV\n",
      "Distance: 0.81 A, Energy: -0.97019 eV\n",
      "Distance: 0.86 A, Energy: -6.94325 eV\n",
      "Distance: 0.92 A, Energy: -10.91333 eV\n",
      "Distance: 0.97 A, Energy: -13.43792 eV\n",
      "Distance: 1.02 A, Energy: -14.90775 eV\n",
      "Distance: 1.07 A, Energy: -15.61488 eV\n",
      "Distance: 1.13 A, Energy: -15.77795 eV\n",
      "Distance: 1.18 A, Energy: -15.56559 eV\n",
      "Distance: 1.23 A, Energy: -15.10724 eV\n",
      "Distance: 1.28 A, Energy: -14.49344 eV\n",
      "Distance: 1.34 A, Energy: -13.77883 eV\n",
      "Distance: 1.39 A, Energy: -13.00602 eV\n",
      "Distance: 1.44 A, Energy: -12.20349 eV\n",
      "Distance: 1.49 A, Energy: -11.39434 eV\n",
      "Distance: 1.55 A, Energy: -10.59190 eV\n",
      "Distance: 1.60 A, Energy: -9.90325 eV\n"
     ]
    },
    {
     "data": {
      "image/png": "[encoded data removed]",
      "text/plain": [
       "<Figure size 640x480 with 1 Axes>"
      ]
     },
     "metadata": {},
     "output_type": "display_data"
    }
   ],
   "source": [
    "import numpy as np\n",
    "from ase import Atoms\n",
    "from gpaw import GPAW\n",
    "from ase.io.trajectory import Trajectory\n",
    "import matplotlib.pyplot as plt\n",
    "\n",
    "# Create an N2 molecule with an initial guess for bond length\n",
    "initial_distance = 1.1  # in angstroms\n",
    "steps = 20\n",
    "displacement_range = 0.5  # displacement range in angstroms (total range will be from -displacement_range to +displacement_range)\n",
    "displacements = np.linspace(-displacement_range, displacement_range, steps)\n",
    "\n",
    "# Create a trajectory file to save each step\n",
    "traj = Trajectory('binding_energy_curve.traj', 'w')\n",
    "\n",
    "# List to store distances and energies\n",
    "distances = []\n",
    "energies = []\n",
    "\n",
    "# Loop over displacements\n",
    "for disp in displacements:\n",
    "    # Create N2 molecule with the current displacement\n",
    "    distance = initial_distance + disp\n",
    "    atoms3 = Atoms('N2', positions=[[0, 0, 0], [0, 0, distance]])\n",
    "    atoms3.center(vacuum=3.0)\n",
    "    \n",
    "    # Set up the GPAW calculator\n",
    "    calc = GPAW(mode='lcao', basis='dzp', xc='LDA', txt=None)\n",
    "    atoms3.calc = calc\n",
    "    \n",
    "    # Calculate potential energy\n",
    "    energy = atoms3.get_potential_energy()\n",
    "    print(f'Distance: {distance:.2f} A, Energy: {energy:.5f} eV')\n",
    "    \n",
    "    # Save current atoms to trajectory\n",
    "    traj.write(atoms3)\n",
    "    \n",
    "    # Store distance and energy\n",
    "    distances.append(distance)\n",
    "    energies.append(energy)\n",
    "\n",
    "# Close the trajectory file\n",
    "traj.close()\n",
    "\n",
    "# Plot the binding energy curve\n",
    "plt.figure()\n",
    "plt.plot(distances, energies, marker='o')\n",
    "plt.xlabel('Bond Length (A)')\n",
    "plt.ylabel('Potential Energy (eV)')\n",
    "plt.title('Binding Energy Curve of N2 Molecule')\n",
    "plt.grid()\n",
    "plt.show()\n"
   ]
  },
  {
   "cell_type": "markdown",
   "id": "9f56cff8-ebdf-4cae-8e45-a6b5beaef958",
   "metadata": {},
   "source": [
    "The term \"binding energy curve\" refers to a plot of the potential energy of a molecule (or system) as a function of the distance between its constituent atoms. \n",
    "The binding energy curve illustrates how the potential energy of the system varies with the distance between the atoms. This helps in understanding the stability and strength of the bond between the atoms.\n",
    "By plotting this curve, you can visualize the point where the system is at its lowest energy, which corresponds to the equilibrium bond length.\n",
    "\n",
    "In this system the equilibrium distance is around 1.13 A(Angstrom)."
   ]
  },
  {
   "cell_type": "markdown",
   "id": "297e0ad9-74f0-46d1-8059-be499f073e37",
   "metadata": {},
   "source": [
    "Ask sir about binding energy and molecular atomization energy?"
   ]
  },
  {
   "cell_type": "code",
   "execution_count": null,
   "id": "34825744-0739-4567-950f-e07b830672b1",
   "metadata": {},
   "outputs": [],
   "source": []
  },
  {
   "cell_type": "code",
   "execution_count": null,
   "id": "3bde3ada-c293-4bf7-bf8f-c0aa3ef46491",
   "metadata": {},
   "outputs": [],
   "source": []
  }
 ],
 "metadata": {
  "kernelspec": {
   "display_name": "Python 3 (ipykernel)",
   "language": "python",
   "name": "python3"
  },
  "language_info": {
   "codemirror_mode": {
    "name": "ipython",
    "version": 3
   },
   "file_extension": ".py",
   "mimetype": "text/x-python",
   "name": "python",
   "nbconvert_exporter": "python",
   "pygments_lexer": "ipython3",
   "version": "3.10.12"
  }
 },
 "nbformat": 4,
 "nbformat_minor": 5
}
