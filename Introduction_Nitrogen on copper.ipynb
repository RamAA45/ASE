{
 "cells": [
  {
   "cell_type": "code",
   "execution_count": 2,
   "id": "2bf4947d-2781-4234-b1f1-fe9defff8516",
   "metadata": {},
   "outputs": [
    {
     "name": "stdout",
     "output_type": "stream",
     "text": [
      "                Step[ FC]     Time          Energy          fmax\n",
      "BFGSLineSearch:    0[  0] 08:44:01       11.689927       1.0797\n",
      "BFGSLineSearch:    1[  2] 08:44:01       11.670814       0.4090\n",
      "BFGSLineSearch:    2[  4] 08:44:01       11.625880       0.0409\n",
      "Adsorption energy: 0.32351942231763786\n"
     ]
    }
   ],
   "source": [
    "from ase import Atoms\n",
    "from ase.build import add_adsorbate, fcc111\n",
    "from ase.calculators.emt import EMT\n",
    "from ase.constraints import FixAtoms\n",
    "from ase.optimize import QuasiNewton\n",
    "\n",
    "h = 1.85\n",
    "d = 1.10\n",
    "\n",
    "slab = fcc111('Cu', size=(4, 4, 2), vacuum=10.0)\n",
    "\n",
    "slab.calc = EMT()\n",
    "e_slab = slab.get_potential_energy()\n",
    "\n",
    "molecule = Atoms('2N', positions=[(0., 0., 0.), (0., 0., d)])\n",
    "molecule.calc = EMT()\n",
    "e_N2 = molecule.get_potential_energy()\n",
    "\n",
    "add_adsorbate(slab, molecule, h, 'ontop')\n",
    "constraint = FixAtoms(mask=[a.symbol != 'N' for a in slab])\n",
    "slab.set_constraint(constraint)\n",
    "dyn = QuasiNewton(slab, trajectory='N2Cu.traj')\n",
    "dyn.run(fmax=0.05)\n",
    "\n",
    "print('Adsorption energy:', e_slab + e_N2 - slab.get_potential_energy())"
   ]
  },
  {
   "cell_type": "code",
   "execution_count": 3,
   "id": "2319d560-fc57-4ac2-aebe-9621e0a536ca",
   "metadata": {},
   "outputs": [],
   "source": [
    "#The Atoms object is a collection of atoms. Here is how to define a N2 molecule by directly specifying the position of two nitrogen atoms:\n",
    "from ase import Atoms\n",
    "d = 1.10\n",
    "molecule = Atoms('2N', positions=[(0., 0., 0.), (0., 0., d)])"
   ]
  },
  {
   "cell_type": "code",
   "execution_count": 4,
   "id": "cdbc1532-6e22-41ab-a651-f11fbd92c29c",
   "metadata": {},
   "outputs": [
    {
     "data": {
      "text/plain": [
       "Atoms(symbols='N2', pbc=False)"
      ]
     },
     "execution_count": 4,
     "metadata": {},
     "output_type": "execute_result"
    }
   ],
   "source": [
    "molecule"
   ]
  },
  {
   "cell_type": "code",
   "execution_count": 19,
   "id": "71f0c335-6434-4ad8-bd98-f9f1af54d782",
   "metadata": {},
   "outputs": [],
   "source": [
    "#You can also build crystals using  the lattice module which returns Atoms objects corresponding to common crystal structures. \n",
    "#Let us make a Cu (111) surface:\n",
    "from ase.build import fcc111\n",
    "slab = fcc111('Cu', size=(4,4,2), vacuum=10.0)"
   ]
  },
  {
   "cell_type": "code",
   "execution_count": 20,
   "id": "8dfdd99f-117e-4a73-874c-5fd7c0e27ab9",
   "metadata": {},
   "outputs": [
    {
     "data": {
      "text/plain": [
       "Atoms(symbols='Cu32', pbc=[True, True, False], cell=[[10.210621920333747, 0.0, 0.0], [5.105310960166873, 8.842657971447272, 0.0], [0.0, 0.0, 22.08423447177455]], tags=...)"
      ]
     },
     "execution_count": 20,
     "metadata": {},
     "output_type": "execute_result"
    }
   ],
   "source": [
    "slab"
   ]
  },
  {
   "cell_type": "code",
   "execution_count": 7,
   "id": "d0ab0996-a363-4c34-b7f6-22a5a3fbda0d",
   "metadata": {},
   "outputs": [],
   "source": [
    "from ase.build import bcc110\n",
    "slab2 = bcc110('Fe', size=(4,4,2), vacuum=10.0)"
   ]
  },
  {
   "cell_type": "code",
   "execution_count": 8,
   "id": "5e507ca8-f215-4492-9623-e92e3f6488e4",
   "metadata": {},
   "outputs": [],
   "source": [
    "#In this overview we use the effective medium theory (EMT) calculator, as it is very fast and hence useful for getting started.\n",
    "from ase.calculators.emt import EMT\n",
    "slab.calc = EMT()\n",
    "molecule.calc = EMT()"
   ]
  },
  {
   "cell_type": "code",
   "execution_count": 9,
   "id": "395f6376-20f4-4d3b-9a81-c364644277e5",
   "metadata": {},
   "outputs": [],
   "source": [
    "#calculate the total energies for the systems by using the get_potential_energy() method from the Atoms class:\n",
    "e_slab = slab.get_potential_energy()\n",
    "e_N2 = molecule.get_potential_energy()"
   ]
  },
  {
   "cell_type": "code",
   "execution_count": 10,
   "id": "421e481e-ee1b-44e7-978f-05c311be80db",
   "metadata": {},
   "outputs": [
    {
     "data": {
      "text/plain": [
       "11.509056283569894"
      ]
     },
     "execution_count": 10,
     "metadata": {},
     "output_type": "execute_result"
    }
   ],
   "source": [
    "e_slab"
   ]
  },
  {
   "cell_type": "code",
   "execution_count": 11,
   "id": "ddff21e4-1fc8-40cf-bdc0-4ed15fa9e7af",
   "metadata": {},
   "outputs": [
    {
     "data": {
      "text/plain": [
       "0.440343573035614"
      ]
     },
     "execution_count": 11,
     "metadata": {},
     "output_type": "execute_result"
    }
   ],
   "source": [
    "e_N2"
   ]
  },
  {
   "cell_type": "code",
   "execution_count": 12,
   "id": "0078cfa6-71cc-486d-93b0-71ca13778c50",
   "metadata": {},
   "outputs": [],
   "source": [
    "# First add the adsorbate to the Cu slab, for example in the on-top position:\n",
    "h = 1.85\n",
    "add_adsorbate(slab, molecule, h, 'ontop')"
   ]
  },
  {
   "cell_type": "code",
   "execution_count": 13,
   "id": "42b3ed40-d2e6-4288-84f1-19fc8f773293",
   "metadata": {},
   "outputs": [],
   "source": [
    "#In order to speed up the relaxation, let us keep the Cu atoms fixed in the slab by using FixAtoms from the constraints module. \n",
    "#Only the N2 molecule is then allowed to relax to the equilibrium structure:\n",
    "from ase.constraints import FixAtoms\n",
    "constraint = FixAtoms(mask=[a.symbol != 'N' for a in slab])\n",
    "slab.set_constraint(constraint)"
   ]
  },
  {
   "cell_type": "code",
   "execution_count": 14,
   "id": "b9f54412-a53b-41fc-ab4b-52dd3c6b008b",
   "metadata": {},
   "outputs": [
    {
     "name": "stdout",
     "output_type": "stream",
     "text": [
      "                Step[ FC]     Time          Energy          fmax\n",
      "BFGSLineSearch:    0[  0] 08:44:01       11.689927       1.0797\n",
      "BFGSLineSearch:    1[  2] 08:44:01       11.670814       0.4090\n",
      "BFGSLineSearch:    2[  4] 08:44:01       11.625880       0.0409\n"
     ]
    },
    {
     "data": {
      "text/plain": [
       "True"
      ]
     },
     "execution_count": 14,
     "metadata": {},
     "output_type": "execute_result"
    }
   ],
   "source": [
    "#Now attach the QuasiNewton minimizer to the system and save the trajectory file. \n",
    "#Run the minimizer with the convergence criteria that the force on all atoms should be less than some fmax:\n",
    "\n",
    "\n",
    "from ase.optimize import QuasiNewton\n",
    "dyn = QuasiNewton(slab, trajectory='N2Cu.traj')\n",
    "dyn.run(fmax=0.05)"
   ]
  },
  {
   "cell_type": "code",
   "execution_count": 15,
   "id": "7f87a6e2-c17a-480c-a69a-c9a3d5db41ba",
   "metadata": {},
   "outputs": [
    {
     "name": "stderr",
     "output_type": "stream",
     "text": [
      "/home/ram/.local/lib/python3.10/site-packages/ase/io/extxyz.py:311: UserWarning: Skipping unhashable information adsorbate_info\n",
      "  warnings.warn('Skipping unhashable information '\n"
     ]
    }
   ],
   "source": [
    "#Writing the atomic positions to a file is done with the write() function:\n",
    "from ase.io import write\n",
    "write('slab.xyz', slab)"
   ]
  },
  {
   "cell_type": "code",
   "execution_count": 16,
   "id": "dfbfcdc8-3f35-4345-8e1f-61a459845c85",
   "metadata": {},
   "outputs": [],
   "source": [
    "from ase.io import read\n",
    "slab_from_file = read('slab.xyz')"
   ]
  },
  {
   "cell_type": "code",
   "execution_count": 17,
   "id": "9f98ed56-62f2-4f90-bfd4-a9b4d77666a4",
   "metadata": {},
   "outputs": [
    {
     "data": {
      "text/plain": [
       "Atoms(symbols='Cu32N2', pbc=[True, True, False], cell=[[10.210621920333747, 0.0, 0.0], [5.105310960166873, 8.842657971447272, 0.0], [0.0, 0.0, 22.08423447177455]], tags=..., calculator=SinglePointCalculator(...))"
      ]
     },
     "execution_count": 17,
     "metadata": {},
     "output_type": "execute_result"
    }
   ],
   "source": [
    "slab_from_file"
   ]
  },
  {
   "cell_type": "code",
   "execution_count": 29,
   "id": "8d10c71b-b7d9-419c-b138-266f8dbaed6a",
   "metadata": {},
   "outputs": [
    {
     "data": {
      "text/plain": [
       "<Popen: returncode: None args: ['/usr/bin/python3', '-m', 'ase', 'gui', '-']>"
      ]
     },
     "execution_count": 29,
     "metadata": {},
     "output_type": "execute_result"
    }
   ],
   "source": [
    "#The simplest way to visualize the atoms is the view() function:\n",
    "from ase.visualize import view\n",
    "view(slab)"
   ]
  },
  {
   "cell_type": "code",
   "execution_count": 26,
   "id": "a886c3d6-5a4a-489b-865e-6d62a4b6230b",
   "metadata": {},
   "outputs": [],
   "source": [
    "#view(slab, viewer='VMD', data=array)\n",
    "#Have to install VMD for this"
   ]
  },
  {
   "cell_type": "code",
   "execution_count": 37,
   "id": "84bfe2f2-3a7d-4c82-aa99-c9638ab189ae",
   "metadata": {},
   "outputs": [
    {
     "name": "stdout",
     "output_type": "stream",
     "text": [
      " 0: 0.43843 eV, 0.27401 eV, 0.16442 eV\n",
      " 1: 0.44028 eV, 0.43311 eV, 0.00717 eV\n",
      " 2: 0.43813 eV, 0.27048 eV, 0.16765 eV\n",
      " 3: 0.44002 eV, 0.40115 eV, 0.03887 eV\n",
      " 4: 0.43918 eV, 0.32649 eV, 0.11269 eV\n",
      " 5: 0.43987 eV, 0.38936 eV, 0.05051 eV\n",
      " 6: 0.43880 eV, 0.32646 eV, 0.11234 eV\n",
      " 7: 0.43877 eV, 0.32458 eV, 0.11420 eV\n",
      " 8: 0.43988 eV, 0.39083 eV, 0.04905 eV\n",
      " 9: 0.43916 eV, 0.32488 eV, 0.11428 eV\n"
     ]
    }
   ],
   "source": [
    "#Let us look at the nitrogen molecule as an example of molecular dynamics with the VelocityVerlet algorithm. \n",
    "#We first create the VelocityVerlet object giving it the molecule and the time step for the integration of Newton’s law. \n",
    "#We then perform the dynamics by calling its run() method and giving it the number of steps to take:\n",
    "from ase.md.verlet import VelocityVerlet\n",
    "from ase import units\n",
    "dyn = VelocityVerlet(molecule, dt=1.0 * units.fs)\n",
    "for i in range(10):\n",
    "    pot = molecule.get_potential_energy()\n",
    "    kin = molecule.get_kinetic_energy()\n",
    "    print('%2d: %.5f eV, %.5f eV, %.5f eV' % (i, pot + kin, pot, kin))\n",
    "    dyn.run(steps=20)\n",
    "#Didn't Understand"
   ]
  },
  {
   "cell_type": "code",
   "execution_count": null,
   "id": "545eac31-c4b4-4566-aee6-e315061322f5",
   "metadata": {},
   "outputs": [],
   "source": []
  }
 ],
 "metadata": {
  "kernelspec": {
   "display_name": "Python 3 (ipykernel)",
   "language": "python",
   "name": "python3"
  },
  "language_info": {
   "codemirror_mode": {
    "name": "ipython",
    "version": 3
   },
   "file_extension": ".py",
   "mimetype": "text/x-python",
   "name": "python",
   "nbconvert_exporter": "python",
   "pygments_lexer": "ipython3",
   "version": "3.10.12"
  }
 },
 "nbformat": 4,
 "nbformat_minor": 5
}
